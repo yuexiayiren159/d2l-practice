{
 "cells": [
  {
   "cell_type": "code",
   "execution_count": 7,
   "metadata": {},
   "outputs": [
    {
     "name": "stdout",
     "output_type": "stream",
     "text": [
      "torch.Size([1, 10])\n"
     ]
    }
   ],
   "source": [
    "# LeNet网络\n",
    "import torch\n",
    "from torch import nn\n",
    "from d2l import torch as d2l\n",
    "\n",
    "class AlexNet(nn.Module):\n",
    "    def __init__(self):\n",
    "        super(AlexNet,self).__init__()\n",
    "        self.conv1 = nn.Conv2d(1,96,kernel_size=11, stride=4)\n",
    "        self.maxpool_1 = nn.MaxPool2d(kernel_size=3, stride=2)\n",
    "        \n",
    "        self.conv2 = nn.Conv2d(96,256,kernel_size=5,padding=2)\n",
    "        self.maxpool_2 = nn.MaxPool2d(kernel_size=3,stride=2)\n",
    "        \n",
    "        self.conv3= nn.Conv2d(256,384,kernel_size=3,padding=1)\n",
    "        self.conv4 = nn.Conv2d(384,384,kernel_size=3,padding=1)\n",
    "        self.conv5 = nn.Conv2d(384,256,kernel_size=3, padding=1)\n",
    "        self.maxpool_3 = nn.MaxPool2d(3,2)\n",
    "        \n",
    "        self.flatten = nn.Flatten()\n",
    "        self.dense_1 = nn.Linear(6400,4096)\n",
    "        self.dense_2 = nn.Linear(4096,4096)\n",
    "        self.dense_3 = nn.Linear(4096,10)\n",
    "        \n",
    "        self.relu = nn.ReLU()\n",
    "        self.dropout = nn.Dropout(0.5)\n",
    "            \n",
    "        \n",
    "    def forward(self,x):\n",
    "        x = self.maxpool_1(self.relu(self.conv1(x)))\n",
    "        x = self.maxpool_2(self.relu(self.conv2(x)))\n",
    "        \n",
    "        x = self.conv3(x)\n",
    "        x = self.conv4(x)\n",
    "        x = self.conv5(x)\n",
    "        x = self.maxpool_3(self.relu(x))\n",
    "        \n",
    "        x = self.flatten(x)\n",
    "        # x = x.view(-1,256*6*6)\n",
    "        x = self.dropout(self.relu(self.dense_1(x)))\n",
    "        x = self.dropout(self.relu(self.dense_2(x)))\n",
    "        x = self.dense_3(x)\n",
    "        print(x.shape)\n",
    "\n",
    "        return x\n",
    "    \n",
    "model = AlexNet()\n",
    "input = torch.randn((1,1,224,224))\n",
    "output = model(input)"
   ]
  },
  {
   "cell_type": "code",
   "execution_count": 4,
   "metadata": {},
   "outputs": [
    {
     "data": {
      "text/plain": [
       "6400"
      ]
     },
     "execution_count": 4,
     "metadata": {},
     "output_type": "execute_result"
    }
   ],
   "source": [
    "256*5*5"
   ]
  },
  {
   "cell_type": "code",
   "execution_count": null,
   "metadata": {},
   "outputs": [],
   "source": [
    "batch_size = 128\n"
   ]
  }
 ],
 "metadata": {
  "kernelspec": {
   "display_name": "d2l",
   "language": "python",
   "name": "python3"
  },
  "language_info": {
   "codemirror_mode": {
    "name": "ipython",
    "version": 3
   },
   "file_extension": ".py",
   "mimetype": "text/x-python",
   "name": "python",
   "nbconvert_exporter": "python",
   "pygments_lexer": "ipython3",
   "version": "3.9.21"
  }
 },
 "nbformat": 4,
 "nbformat_minor": 2
}
